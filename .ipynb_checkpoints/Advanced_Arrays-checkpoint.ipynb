{
 "cells": [
  {
   "cell_type": "code",
   "execution_count": 3,
   "id": "fce1b98c-dec8-4e02-a2a6-ad993f1631c9",
   "metadata": {},
   "outputs": [],
   "source": [
    "import numpy as np\n",
    "import h5py\n",
    "from pathlib import Path"
   ]
  },
  {
   "cell_type": "code",
   "execution_count": 37,
   "id": "b3e9fc78-385e-461e-88e2-a466e98c2b55",
   "metadata": {},
   "outputs": [],
   "source": [
    "# We are creating some fictional data points\n",
    "def generate_fake(n_dims = (160,64,1)):\n",
    "    x =  np.random.random(size=n_dims)\n",
    "    y =  np.random.randint(0,9,1) #np.array([1])\n",
    "    return x,y\n"
   ]
  },
  {
   "cell_type": "code",
   "execution_count": 50,
   "id": "6d26cadb-7643-44d2-a223-0f44176a525f",
   "metadata": {},
   "outputs": [],
   "source": [
    "# Creating a h5py resizable dataset \n",
    "f = \"dataset.h5\"\n",
    "if Path(f).is_file():\n",
    "    Path(f).unlink()\n",
    "hf =  h5py.File(\"dataset.h5\", \"w\")\n",
    "dims = (160,128,1)\n",
    "for i in range(10):\n",
    "    x,y =  generate_fake(n_dims = dims)\n",
    "    x =  np.expand_dims(x, axis=0)\n",
    "    if i  == 0:\n",
    "        hf.create_dataset('X', data=x, compression=\"gzip\", chunks=True, maxshape=(None,x.shape[1],x.shape[2],1))\n",
    "        hf.create_dataset('y', data=y, compression=\"gzip\", chunks=True, maxshape=(None,))\n",
    "        hf.create_dataset('CLASSES', data=[\"Cat\", \"Dog\",\"Puppy\"], compression=\"gzip\", chunks=True, maxshape=(None,))\n",
    "    else:\n",
    "        # We first resize the dataset \n",
    "        hf[\"X\"].resize((hf[\"X\"].shape[0] + x.shape[0]), axis = 0)\n",
    "        # Then, append the new data at the end of the current dataset\n",
    "        hf[\"X\"][-x.shape[0]:] = x\n",
    "        \n",
    "        # We first resize the dataset \n",
    "        hf[\"y\"].resize((hf[\"y\"].shape[0] + x.shape[0]), axis = 0)\n",
    "        # Then, append the new data at the end of the current dataset\n",
    "        hf[\"y\"][-y.shape[0]:] = y\n",
    "        \n",
    "hf.close()"
   ]
  },
  {
   "cell_type": "code",
   "execution_count": 51,
   "id": "e9b1a7f9-b581-4548-a04c-186b58979359",
   "metadata": {},
   "outputs": [
    {
     "name": "stdout",
     "output_type": "stream",
     "text": [
      "(10, 160, 128, 1) (10,)\n"
     ]
    }
   ],
   "source": [
    "hf =  h5py.File(f, mode=\"r\")\n",
    "\n",
    "X = np.array(hf.get(\"X\"))\n",
    "y = np.array(hf.get(\"y\"))\n",
    "print(X.shape, y.shape)\n",
    "# hf.close()  "
   ]
  },
  {
   "cell_type": "code",
   "execution_count": 52,
   "id": "11d9b141-3129-4db6-9ffd-c7d21a1f5495",
   "metadata": {},
   "outputs": [
    {
     "data": {
      "text/plain": [
       "<KeysViewHDF5 ['CLASSES', 'X', 'y']>"
      ]
     },
     "execution_count": 52,
     "metadata": {},
     "output_type": "execute_result"
    }
   ],
   "source": [
    "hf.keys()"
   ]
  },
  {
   "cell_type": "code",
   "execution_count": 53,
   "id": "a38b4d02-7575-439b-8f6a-27fdcc60c5f9",
   "metadata": {},
   "outputs": [
    {
     "data": {
      "text/plain": [
       "(10, 160, 128, 1)"
      ]
     },
     "execution_count": 53,
     "metadata": {},
     "output_type": "execute_result"
    }
   ],
   "source": [
    "X.shape "
   ]
  },
  {
   "cell_type": "code",
   "execution_count": 54,
   "id": "b9e32bcb-f098-4936-b3b4-4581664c65a8",
   "metadata": {},
   "outputs": [
    {
     "data": {
      "text/plain": [
       "<HDF5 dataset \"CLASSES\": shape (3,), type \"|O\">"
      ]
     },
     "execution_count": 54,
     "metadata": {},
     "output_type": "execute_result"
    }
   ],
   "source": [
    "hf.get(\"CLASSES\")"
   ]
  },
  {
   "cell_type": "code",
   "execution_count": null,
   "id": "857d85b0-1b09-4dc1-b8c4-df0b48f60ce7",
   "metadata": {},
   "outputs": [],
   "source": []
  }
 ],
 "metadata": {
  "kernelspec": {
   "display_name": "Python 3 (ipykernel)",
   "language": "python",
   "name": "python3"
  },
  "language_info": {
   "codemirror_mode": {
    "name": "ipython",
    "version": 3
   },
   "file_extension": ".py",
   "mimetype": "text/x-python",
   "name": "python",
   "nbconvert_exporter": "python",
   "pygments_lexer": "ipython3",
   "version": "3.9.15"
  }
 },
 "nbformat": 4,
 "nbformat_minor": 5
}
