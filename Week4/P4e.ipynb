{
 "cells": [
  {
   "cell_type": "code",
   "execution_count": 11,
   "id": "38b5d2ca-1ac3-45c7-9821-25b1a70efad9",
   "metadata": {},
   "outputs": [
    {
     "name": "stdin",
     "output_type": "stream",
     "text": [
      "Enter Score:  you\n"
     ]
    },
    {
     "name": "stdout",
     "output_type": "stream",
     "text": [
      "Invalid entry\n"
     ]
    }
   ],
   "source": [
    "score = input(\"Enter Score: \")\n",
    "try:\n",
    "    score = float(score)\n",
    "    if score >= 0.0 and score <= 1.0:\n",
    "        if score >= 0.9:\n",
    "            print(\"A\")\n",
    "        elif score >= 0.8:\n",
    "            print(\"B\")\n",
    "        elif score >= 0.7:\n",
    "            print(\"C\")\n",
    "        elif score >= 0.6:\n",
    "            print(\"D\")\n",
    "        elif score < 0.6:\n",
    "            print(\"F\")\n",
    "    else:\n",
    "        print(\"Entered score is out of range of [0,1]\")\n",
    "except:\n",
    "    print(\"Invalid entry\")"
   ]
  },
  {
   "cell_type": "code",
   "execution_count": 21,
   "id": "058872dd-aacf-4a76-9f76-0ca2fd35dc8b",
   "metadata": {},
   "outputs": [],
   "source": [
    "def largest_in_list(lst):\n",
    "    c_largest = lst[0]\n",
    "    for i in range(len(lst) - 1):\n",
    "        # c_largest = lst[i]\n",
    "        if c_largest <= lst[i+1]:\n",
    "            c_largest = lst[i+1]\n",
    "    print(c_largest)\n",
    " \n"
   ]
  },
  {
   "cell_type": "code",
   "execution_count": 23,
   "id": "e75da4f6-701e-4989-a177-2306e6bf47c0",
   "metadata": {},
   "outputs": [
    {
     "name": "stdout",
     "output_type": "stream",
     "text": [
      "1000\n"
     ]
    }
   ],
   "source": [
    "largest_in_list([1000,100,1,0,4,-1,10])"
   ]
  },
  {
   "cell_type": "code",
   "execution_count": 24,
   "id": "e2783e06-1481-4e60-950d-252738ff1a6c",
   "metadata": {},
   "outputs": [
    {
     "name": "stdout",
     "output_type": "stream",
     "text": [
      "-1\n"
     ]
    }
   ],
   "source": [
    "smallest_so_far = -1\n",
    "for the_num in [9, 41, 12, 3, 74, 15] :\n",
    "   if the_num < smallest_so_far :\n",
    "      smallest_so_far = the_num\n",
    "print(smallest_so_far)"
   ]
  },
  {
   "cell_type": "code",
   "execution_count": 26,
   "id": "213e1c94-19a8-422d-ba3a-b240208ff908",
   "metadata": {},
   "outputs": [
    {
     "data": {
      "text/plain": [
       "-1"
      ]
     },
     "execution_count": 26,
     "metadata": {},
     "output_type": "execute_result"
    }
   ],
   "source": [
    "min([1000,100,1,0,4,-1,10])"
   ]
  },
  {
   "cell_type": "code",
   "execution_count": 31,
   "id": "91260340-2b16-45ca-8257-2027ecec0bc8",
   "metadata": {},
   "outputs": [
    {
     "name": "stdin",
     "output_type": "stream",
     "text": [
      "Enter a number:  1\n",
      "Enter a number:  2\n",
      "Enter a number:  3\n",
      "Enter a number:  4\n",
      "Enter a number:  78\n",
      "Enter a number:  54\n",
      "Enter a number:  done\n"
     ]
    },
    {
     "name": "stdout",
     "output_type": "stream",
     "text": [
      "Maximum 78\n",
      "Minimum 1\n"
     ]
    }
   ],
   "source": [
    "numbers = []\n",
    "while True:\n",
    "    num = input(\"Enter a number: \")\n",
    "    \n",
    "    if num == \"done\":\n",
    "        break\n",
    "    try:\n",
    "        num = int(num)\n",
    "    except:\n",
    "        print(\"Invalid input\")\n",
    "\n",
    "    numbers.append(num)\n",
    "\n",
    "largest = max(numbers)\n",
    "smallest = min(numbers)\n",
    "print(\"Maximum\", largest)\n",
    "print(\"Minimum\", smallest)"
   ]
  },
  {
   "cell_type": "code",
   "execution_count": null,
   "id": "950d8880-0bdb-4ec6-8689-46cd809d745c",
   "metadata": {},
   "outputs": [],
   "source": [
    "largest = None\n",
    "smallest = None\n",
    "numbers = []\n",
    "while True:\n",
    "    num = input(\"Enter a number: \")\n",
    "    try:\n",
    "        num = int(num)\n",
    "    except:\n",
    "        print(\"Invalid input\")\n",
    "    if num == \"done\":\n",
    "        break\n",
    "    print(num)\n",
    "\n",
    "print(\"Maximum\", largest)"
   ]
  }
 ],
 "metadata": {
  "kernelspec": {
   "display_name": "Python 3 (ipykernel)",
   "language": "python",
   "name": "python3"
  },
  "language_info": {
   "codemirror_mode": {
    "name": "ipython",
    "version": 3
   },
   "file_extension": ".py",
   "mimetype": "text/x-python",
   "name": "python",
   "nbconvert_exporter": "python",
   "pygments_lexer": "ipython3",
   "version": "3.9.15"
  }
 },
 "nbformat": 4,
 "nbformat_minor": 5
}
