{
 "cells": [
  {
   "cell_type": "markdown",
   "id": "7d07684e-1814-42aa-bc0c-8b371daefeb3",
   "metadata": {},
   "source": [
    "#### Cell 1 (rendered as Markdown): The title should be \"My Jupyter Notebook on IBM Watson Studio\", in H1 header styling. The title does not need to be centered.\n",
    "\n"
   ]
  },
  {
   "cell_type": "markdown",
   "id": "e3242c91-d012-4651-811a-9c4812c797b6",
   "metadata": {},
   "source": [
    "# My Jupyter Notebook on IBM Watson Studio"
   ]
  },
  {
   "cell_type": "markdown",
   "id": "71f3ea78-28d4-49fd-ac12-6168627acf7e",
   "metadata": {},
   "source": [
    "#### Cell 2 (rendered as Markdown): Include your name, in bold characters. In the line below your name, write your current or desired occupation in regular font.\n",
    "\n"
   ]
  },
  {
   "cell_type": "markdown",
   "id": "4b6d84a6-9aa4-4b87-8aae-e39302aa6203",
   "metadata": {},
   "source": [
    "**Yusuf Brima** \n",
    "\n",
    "AI Research Scientist"
   ]
  },
  {
   "cell_type": "markdown",
   "id": "860eafcc-c230-4603-b41e-6340868ff1cc",
   "metadata": {},
   "source": [
    "#### Cell 3 (rendered as Markdown): In italic formatting, write one or two sentences about why you are interested in data science. For example, you can start your first sentence with \"I am interested in data science because ...\".\n",
    "\n"
   ]
  },
  {
   "cell_type": "markdown",
   "id": "1a9b65b4-27f1-4a1d-83c2-a2901c2a0741",
   "metadata": {},
   "source": [
    "*With the massive amount of data that is being created in all walks of life from astronomy to healthcare to particle physics research, data science has a pitoval role in discovering insights across these varied domains that can help stakeholders make data-driven decisions. This can help in tremendeously improving the human condition.*"
   ]
  },
  {
   "cell_type": "markdown",
   "id": "45e033ff-4882-4865-94ba-641f8e8a4873",
   "metadata": {},
   "source": [
    "#### Cell 4 (rendered as Markdown): In H3 header styling, explain in a short sentence what your code is supposed to do in Cell 5.\n",
    "\n"
   ]
  },
  {
   "cell_type": "markdown",
   "id": "bdceaf00-0170-4bc1-8bc1-7206164bce05",
   "metadata": {},
   "source": [
    "### A python print statement with the string \"Hello, world.\" as argument. The displays the argument as output."
   ]
  },
  {
   "cell_type": "markdown",
   "id": "e887eb7d-02a9-4d7a-b06a-33360959a45a",
   "metadata": {},
   "source": [
    "#### Cell 5 (code cell): Your code, as described in Cell 4. It must be executed and must display an output. Try to keep the code simple (it can even be \"1 + 1\").\n",
    "\n"
   ]
  },
  {
   "cell_type": "code",
   "execution_count": 1,
   "id": "7cb70d74-695d-4103-952d-6c622e666035",
   "metadata": {},
   "outputs": [
    {
     "name": "stdout",
     "output_type": "stream",
     "text": [
      "Hello, world.\n"
     ]
    }
   ],
   "source": [
    "print(\"Hello, world.\")"
   ]
  },
  {
   "cell_type": "markdown",
   "id": "aeff6711-d2fd-4f93-9cb9-b41758a59f63",
   "metadata": {},
   "source": [
    "#### Cell 6 (rendered as Markdown): Using Markdown or HTML, this cell must include at least 3 of the following: horizontal rule, bulleted list, numbered list, tables, hyperlinks, images, code/syntax highlighting, blocked quotes, strikethrough.\n",
    "\n"
   ]
  },
  {
   "cell_type": "markdown",
   "id": "a9e74417-6353-4b38-acff-a204cca3a8e2",
   "metadata": {},
   "source": [
    "*Horizontal line below*\n",
    "<hr />\n",
    "\n",
    "[This is an hyperlink](https://www.perplexity.ai/)\n",
    "\n",
    "![](https://www.simplilearn.com/ice9/free_resources_article_thumb/Data-Science-vs.-Big-Data-vs.jpg)\n",
    "\n",
    "```python\n",
    "name = input(\"Please enter your name: \")\n",
    "print(f\"Hi, {}\")\n",
    "\n",
    "```"
   ]
  },
  {
   "cell_type": "markdown",
   "id": "cd4a3e35-f06c-452d-8311-4693d32591ce",
   "metadata": {},
   "source": []
  },
  {
   "cell_type": "code",
   "execution_count": null,
   "id": "b0b43012-1fde-47b2-8967-b5222a904d86",
   "metadata": {},
   "outputs": [],
   "source": []
  },
  {
   "cell_type": "code",
   "execution_count": null,
   "id": "52d4077a-59d1-4cd2-b231-290a813f9ca8",
   "metadata": {},
   "outputs": [],
   "source": []
  }
 ],
 "metadata": {
  "kernelspec": {
   "display_name": "Python",
   "language": "python",
   "name": "conda-env-python-py"
  },
  "language_info": {
   "codemirror_mode": {
    "name": "ipython",
    "version": 3
   },
   "file_extension": ".py",
   "mimetype": "text/x-python",
   "name": "python",
   "nbconvert_exporter": "python",
   "pygments_lexer": "ipython3",
   "version": "3.7.12"
  }
 },
 "nbformat": 4,
 "nbformat_minor": 5
}
