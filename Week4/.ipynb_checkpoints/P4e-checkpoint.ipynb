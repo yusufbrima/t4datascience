{
 "cells": [
  {
   "cell_type": "code",
   "execution_count": 11,
   "id": "38b5d2ca-1ac3-45c7-9821-25b1a70efad9",
   "metadata": {},
   "outputs": [
    {
     "name": "stdin",
     "output_type": "stream",
     "text": [
      "Enter Score:  you\n"
     ]
    },
    {
     "name": "stdout",
     "output_type": "stream",
     "text": [
      "Invalid entry\n"
     ]
    }
   ],
   "source": [
    "score = input(\"Enter Score: \")\n",
    "try:\n",
    "    score = float(score)\n",
    "    if score >= 0.0 and score <= 1.0:\n",
    "        if score >= 0.9:\n",
    "            print(\"A\")\n",
    "        elif score >= 0.8:\n",
    "            print(\"B\")\n",
    "        elif score >= 0.7:\n",
    "            print(\"C\")\n",
    "        elif score >= 0.6:\n",
    "            print(\"D\")\n",
    "        elif score < 0.6:\n",
    "            print(\"F\")\n",
    "    else:\n",
    "        print(\"Entered score is out of range of [0,1]\")\n",
    "except:\n",
    "    print(\"Invalid entry\")"
   ]
  },
  {
   "cell_type": "code",
   "execution_count": null,
   "id": "058872dd-aacf-4a76-9f76-0ca2fd35dc8b",
   "metadata": {},
   "outputs": [],
   "source": []
  }
 ],
 "metadata": {
  "kernelspec": {
   "display_name": "Python 3 (ipykernel)",
   "language": "python",
   "name": "python3"
  },
  "language_info": {
   "codemirror_mode": {
    "name": "ipython",
    "version": 3
   },
   "file_extension": ".py",
   "mimetype": "text/x-python",
   "name": "python",
   "nbconvert_exporter": "python",
   "pygments_lexer": "ipython3",
   "version": "3.9.12"
  }
 },
 "nbformat": 4,
 "nbformat_minor": 5
}
