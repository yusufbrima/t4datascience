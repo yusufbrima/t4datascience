{
 "cells": [
  {
   "cell_type": "markdown",
   "id": "c3fb0cc8-747a-439b-9297-04266cab6f4a",
   "metadata": {},
   "source": [
    "## My Jupyter Notebook on IBM Watson Studio"
   ]
  },
  {
   "cell_type": "markdown",
   "id": "791fbef8-e1c5-442e-9563-10262166b1ea",
   "metadata": {},
   "source": [
    "#### Exercise 3 - Create a markdown cell for an introduction. (1 pt)\n",
    "\n"
   ]
  },
  {
   "cell_type": "markdown",
   "id": "a5e51668-9e2d-40ba-9336-1f1d379043c1",
   "metadata": {},
   "source": [
    "#### In this notebook, we cover the basic usage of markedown and cells."
   ]
  },
  {
   "cell_type": "markdown",
   "id": "b27799f0-f0cf-4ed6-9c6c-38577f05b604",
   "metadata": {},
   "source": [
    "#### Exercise 4 - Create a markdown cell to list data science languages. (3 pts)\n",
    "\n"
   ]
  },
  {
   "cell_type": "markdown",
   "id": "da57b450-ffc8-4813-bb2f-750cf21b5dc3",
   "metadata": {},
   "source": [
    "Some of the most popular data science languages.\n",
    "\n",
    "1. Python\n",
    "2. R\n",
    "3. SQL \n",
    "4. Julia\n",
    "5. Scala \n",
    "6. Java\n",
    "7. C++"
   ]
  },
  {
   "cell_type": "markdown",
   "id": "c2c997e6-8911-4cb0-b77c-2c2b26e87128",
   "metadata": {},
   "source": [
    "#### Exercise 5 - Create a markdown cell to list data science libraries. (3 pts)\n",
    "\n"
   ]
  },
  {
   "cell_type": "markdown",
   "id": "ec2158fc-0e08-4564-adeb-56ca744302f4",
   "metadata": {},
   "source": [
    "Some of the most common data science libraries:\n",
    "\n",
    "1. Tensorflow \n",
    "2. PyTorch\n",
    "3. Numpy \n",
    "4. Pandas \n",
    "5. Matplotlib \n",
    "6. Seaborn \n",
    "7. Scipy \n",
    "8. Scikit-learn\n",
    "9. Keras\n",
    "10. dplyr\n",
    "11. ggplot2\n",
    "12. tidyr\n",
    "13. caret \n",
    "14. shiny \n",
    "15. Apache Spark"
   ]
  },
  {
   "cell_type": "markdown",
   "id": "8492386c-7628-4443-8ce6-039030e48787",
   "metadata": {},
   "source": [
    "#### Exercise 6 - Create a markdown cell with a table of Data Science tools. (3 pts)\n",
    "\n"
   ]
  },
  {
   "cell_type": "markdown",
   "id": "2a702d08-196f-4f39-9a12-989f4069e3ab",
   "metadata": {},
   "source": [
    "Some of the commonly used data science tools are:\n",
    "\n",
    "|Data Science tools|\n",
    "|------------------|\n",
    "|Anaconda|\n",
    "|Jupyter Lab  |\n",
    "|Jupyter Notebook  |\n",
    "|Spyder|\n",
    "|R Studio|"
   ]
  },
  {
   "cell_type": "markdown",
   "id": "07473c3a-c9a0-4805-a576-61572f7b55a3",
   "metadata": {},
   "source": [
    "#### Exercise 7 - Create a markdown cell introducing arithmetic expression examples. (1 pt)\n",
    "\n"
   ]
  },
  {
   "cell_type": "markdown",
   "id": "353f2955-b8f0-4316-bac4-12f6fcf8533a",
   "metadata": {},
   "source": [
    "Below are a few arithmetic expressions in python\n",
    "\n",
    "```python \n",
    "\n",
    "/*Arithmetic expressions*/\n",
    "\n",
    "//Addition \n",
    "print( 1 + 1) \n",
    "\n",
    "//Subtraction \n",
    "print(1-1)\n",
    "\n",
    "\n",
    "//Float Division\n",
    "print(1.0/2.0)\n",
    "\n",
    "//Integer Division \n",
    "print(3//2)\n",
    "\n",
    "//Multiplication \n",
    "print(1*2)\n",
    "\n",
    "\n",
    "//Exponetiation\n",
    "print(2*2)\n",
    "```"
   ]
  },
  {
   "cell_type": "markdown",
   "id": "ed8c1c33-f29a-4991-90cf-50e82a929d25",
   "metadata": {},
   "source": [
    "#### Exercise 8 - Create a code cell to multiply and add numbers.(2 pts)\n",
    "\n"
   ]
  },
  {
   "cell_type": "code",
   "execution_count": 2,
   "id": "7b2f6011-6727-402c-a393-cc4ee2a8ad33",
   "metadata": {},
   "outputs": [
    {
     "name": "stdout",
     "output_type": "stream",
     "text": [
      "Multiplication:  9\n"
     ]
    }
   ],
   "source": [
    "# This is an arithmetic expression to multiply then add\n",
    "\n",
    "print(\"Multiplication: \",(2 * 2) + 5)"
   ]
  },
  {
   "cell_type": "markdown",
   "id": "fed164f9-2c84-451d-b183-5be4284f16e3",
   "metadata": {},
   "source": [
    "#### Exercise 9 - Create a code cell to convert minutes to hours. (2 pts)\n",
    "\n"
   ]
  },
  {
   "cell_type": "code",
   "execution_count": 3,
   "id": "7739e4fc-65bd-488f-b1e8-0b31f9f72cdd",
   "metadata": {},
   "outputs": [
    {
     "name": "stdout",
     "output_type": "stream",
     "text": [
      "60.0 is 1.0 in hours\n"
     ]
    }
   ],
   "source": [
    "f = lambda x: round(x/60,2)\n",
    "minutes = 60.0 \n",
    "print(f\"{minutes} is {f(minutes)} in hours\") "
   ]
  },
  {
   "cell_type": "markdown",
   "id": "ea671538-3a84-424b-bf35-0e14745d0144",
   "metadata": {},
   "source": [
    "#### Exercise 10 -Insert a markdown cell to list Objectives. (3 pts)\n",
    "\n"
   ]
  },
  {
   "cell_type": "markdown",
   "id": "6a01c18e-1fe7-40cc-ae2e-c95008fa8b84",
   "metadata": {},
   "source": [
    "**Objectives**\n",
    "- Adding comments to code cells\n",
    "- How to create markdown cells\n",
    "- Working with ordered and unordered lists in markdown syntax\n",
    "- Basic formatting (e.g., headings)\n",
    "- How to create and format tables"
   ]
  },
  {
   "cell_type": "markdown",
   "id": "fd1ec5a0-6a42-4772-8879-1afdf63af097",
   "metadata": {},
   "source": [
    "#### Exercise 11 - Create a markdown cell to indicate the Author’s name. (2 pts)\n",
    "\n"
   ]
  },
  {
   "cell_type": "markdown",
   "id": "d0b057c8-5095-4200-a136-f9da70bbfc61",
   "metadata": {},
   "source": [
    "## Author(s)\n",
    "\n",
    "Yusuf Brima\n"
   ]
  },
  {
   "cell_type": "markdown",
   "id": "b22bdbaf-8c17-44a4-b1a7-05f45223599c",
   "metadata": {},
   "source": [
    "#### Exercise 12 - Share your notebook through GitHub (3 pts)\n",
    "\n"
   ]
  },
  {
   "cell_type": "markdown",
   "id": "28ee07ab-d14b-4cbe-a74d-fca0f6b9f2b8",
   "metadata": {},
   "source": [
    "[Github link](https://github.com/yusufbrima/t4datascience/blob/main/Week4/My%20Jupyter%20Notebook%20on%20IBM%20Watson%20Studio.ipynb)"
   ]
  },
  {
   "cell_type": "code",
   "execution_count": 5,
   "id": "e3d8f179-2c05-4b75-afff-a7873c4b8576",
   "metadata": {},
   "outputs": [
    {
     "name": "stdout",
     "output_type": "stream",
     "text": [
      "Is 6\n",
      "Is Still 6\n",
      "Third 6\n"
     ]
    }
   ],
   "source": [
    "x = 6\n",
    "if x == 6 :\n",
    "    print('Is 6')\n",
    "    print('Is Still 6')\n",
    "    print('Third 6')"
   ]
  },
  {
   "cell_type": "code",
   "execution_count": 6,
   "id": "0e6a7056-0545-45ea-a806-28ca70de939c",
   "metadata": {},
   "outputs": [
    {
     "name": "stdout",
     "output_type": "stream",
     "text": [
      "Small\n",
      "All done\n"
     ]
    }
   ],
   "source": [
    "x = 0\n",
    "if x < 2 :\n",
    "    print('Small')\n",
    "elif x < 10 :\n",
    "    print('Medium')\n",
    "else :\n",
    "    print('LARGE')\n",
    "print('All done')"
   ]
  },
  {
   "cell_type": "code",
   "execution_count": 7,
   "id": "08e78da4-cda5-4e43-a16d-de93ccd0f5d6",
   "metadata": {},
   "outputs": [
    {
     "name": "stdout",
     "output_type": "stream",
     "text": [
      "Two or more\n"
     ]
    }
   ],
   "source": [
    "x = 2\n",
    "if x < 2 :\n",
    "    print('Below 2')\n",
    "elif x >= 2 :\n",
    "     print('Two or more')\n",
    "else :\n",
    "    print('Something else')"
   ]
  },
  {
   "cell_type": "code",
   "execution_count": null,
   "id": "d4eb3776-9a6c-4d6e-bb55-84c05fb65818",
   "metadata": {},
   "outputs": [],
   "source": []
  }
 ],
 "metadata": {
  "kernelspec": {
   "display_name": "Python 3 (ipykernel)",
   "language": "python",
   "name": "python3"
  },
  "language_info": {
   "codemirror_mode": {
    "name": "ipython",
    "version": 3
   },
   "file_extension": ".py",
   "mimetype": "text/x-python",
   "name": "python",
   "nbconvert_exporter": "python",
   "pygments_lexer": "ipython3",
   "version": "3.9.15"
  }
 },
 "nbformat": 4,
 "nbformat_minor": 5
}
